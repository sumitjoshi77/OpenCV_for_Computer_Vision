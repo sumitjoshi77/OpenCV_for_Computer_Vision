{
 "cells": [
  {
   "cell_type": "code",
   "execution_count": 2,
   "metadata": {
    "id": "Z7J5P4hSsyyQ"
   },
   "outputs": [],
   "source": [
    "import cv2\n",
    "import os"
   ]
  },
  {
   "cell_type": "markdown",
   "metadata": {},
   "source": [
    "# Image reading"
   ]
  },
  {
   "cell_type": "code",
   "execution_count": 2,
   "metadata": {
    "colab": {
     "base_uri": "https://localhost:8080/"
    },
    "id": "wOCcmSGkN4nz",
    "outputId": "b6f74e00-3a06-47be-9806-142bb1fa8334"
   },
   "outputs": [
    {
     "name": "stdout",
     "output_type": "stream",
     "text": [
      "<class 'numpy.ndarray'>\n"
     ]
    }
   ],
   "source": [
    "image = cv2.imread(\"pic01.jpg\")\n",
    "print(type(image))"
   ]
  },
  {
   "cell_type": "code",
   "execution_count": 3,
   "metadata": {
    "colab": {
     "base_uri": "https://localhost:8080/"
    },
    "id": "y2YaPH4YOF-U",
    "outputId": "1cefa0a0-bffe-4ac5-83a2-7d8e65829103"
   },
   "outputs": [
    {
     "name": "stdout",
     "output_type": "stream",
     "text": [
      "(571, 571, 3)\n"
     ]
    }
   ],
   "source": [
    "print(image.shape)"
   ]
  },
  {
   "cell_type": "code",
   "execution_count": 4,
   "metadata": {
    "id": "UICl1ZHEOhw8"
   },
   "outputs": [],
   "source": [
    "#read image\n",
    "\n",
    "image_path = \"pic01.jpg\"\n",
    "\n",
    "img = cv2.imread(image_path)"
   ]
  },
  {
   "cell_type": "code",
   "execution_count": 5,
   "metadata": {
    "colab": {
     "base_uri": "https://localhost:8080/"
    },
    "id": "6ca319IUSOv6",
    "outputId": "e00c58ec-3ecf-4a68-a3b8-9eee21e086af"
   },
   "outputs": [],
   "source": [
    "if img is not None:\n",
    "    cv2.imwrite(\"pic01.jpg\", img)\n",
    "else:\n",
    "    print(\"Error: Image not loaded properly!\")\n"
   ]
  },
  {
   "cell_type": "code",
   "execution_count": 6,
   "metadata": {
    "colab": {
     "base_uri": "https://localhost:8080/",
     "height": 65
    },
    "id": "g8TudFrYSwBP",
    "outputId": "c9c9530a-c78d-41f8-a668-e933597b3f4a"
   },
   "outputs": [],
   "source": [
    "import cv2\n",
    "\n",
    "# Display the image\n",
    "cv2.imshow(\"pic01.jpg\", img)  # Provide both window name and image matrix\n",
    "cv2.waitKey(0)  # Wait for a key press to close the window\n",
    "cv2.destroyAllWindows()  # Clean up resources\n"
   ]
  },
  {
   "cell_type": "markdown",
   "metadata": {},
   "source": [
    "# Video Reading"
   ]
  },
  {
   "cell_type": "code",
   "execution_count": 3,
   "metadata": {
    "id": "vB1GNsdAT0zB"
   },
   "outputs": [],
   "source": [
    "video_path = \"178049 (720p).mp4\"\n",
    "\n",
    "video = cv2.VideoCapture(video_path)"
   ]
  },
  {
   "cell_type": "code",
   "execution_count": 4,
   "metadata": {
    "id": "EihdJ3IqwI_u"
   },
   "outputs": [],
   "source": [
    "ret = True\n",
    "# Display the video\n",
    "while ret:\n",
    "    ret, frame = video.read()\n",
    "    \n",
    "    if ret:\n",
    "        cv2.imshow(\"frame\", frame)\n",
    "        cv2.waitKey(0)"
   ]
  },
  {
   "cell_type": "markdown",
   "metadata": {},
   "source": [
    "# WebCam Reading"
   ]
  },
  {
   "cell_type": "code",
   "execution_count": null,
   "metadata": {},
   "outputs": [],
   "source": [
    "import cv2\n",
    "\n",
    "#read webcam\n",
    "webcam = cv2.VideoCapture(0)\n",
    "\n",
    "#visualize webcam\n",
    "\n",
    "while True:\n",
    "    ret, frame = webcam.read()\n",
    "    \n",
    "    cv2.imshow('frame', frame)\n",
    "    if cv2.waitKey(10) & 0xFF == ord('q'):\n",
    "        break\n",
    "    \n",
    "webcam.release()\n",
    "cv2.destroyAllWindow"
   ]
  },
  {
   "cell_type": "markdown",
   "metadata": {},
   "source": [
    "# Resizing"
   ]
  },
  {
   "cell_type": "code",
   "execution_count": null,
   "metadata": {},
   "outputs": [],
   "source": [
    "import os\n",
    "import cv2\n",
    "\n",
    "img = cv2.imread(os.path.join(\".\",\"Dogs.jpg\")) \n",
    "\n",
    "resize_image = cv2.resize(img, (940, 640))\n",
    "\n",
    "print(img.shape)\n",
    "print(resize_image.shape)"
   ]
  },
  {
   "cell_type": "code",
   "execution_count": null,
   "metadata": {},
   "outputs": [],
   "source": [
    "#cv2.imshow(\"img\", img)\n",
    "cv2.imshow(\"resize_image\",resize_image )\n",
    "cv2.waitKey(0)"
   ]
  },
  {
   "cell_type": "markdown",
   "metadata": {},
   "source": [
    "# Cropping"
   ]
  },
  {
   "cell_type": "code",
   "execution_count": null,
   "metadata": {},
   "outputs": [],
   "source": [
    "import os\n",
    "import cv2\n",
    "\n",
    "img = cv2.imread(\"Dogs.jpg\")\n",
    "\n",
    "print(img.shape)"
   ]
  },
  {
   "cell_type": "code",
   "execution_count": null,
   "metadata": {},
   "outputs": [],
   "source": [
    "cropped_image = img[730:860,930:1130]\n",
    "\n",
    "cv2.imshow(\"img\", img)\n",
    "cv2.imshow(\"img_crop\", cropped_image)\n",
    "\n",
    "cv2.waitKey(0)"
   ]
  },
  {
   "cell_type": "markdown",
   "metadata": {},
   "source": [
    "# ColorSpaces"
   ]
  },
  {
   "cell_type": "code",
   "execution_count": null,
   "metadata": {},
   "outputs": [],
   "source": [
    "import os\n",
    "\n",
    "import cv2\n",
    "\n",
    "img = cv2.imread(\"pexels.jpg\")\n",
    "imgrez = cv2.resize(img, (940, 640))   #im using this code here because image is 4k and very big\n",
    "\n",
    "img_rgb = cv2.cvtColor(imgrez, cv2.COLOR_BGR2RGB) #convert one color to another\n",
    "img_gry = cv2.cvtColor(imgrez, cv2.COLOR_BGR2GRAY)\n",
    "img_hsv = cv2.cvtColor(imgrez, cv2.COLOR_BGR2HSV)\n",
    "\n",
    "cv2.imshow(\"img_ORG\", imgrez)\n",
    "cv2.imshow(\"img_RGB\", img_rgb)\n",
    "cv2.imshow('img_gry', img_gry)\n",
    "cv2.imshow('img_hsv', img_hsv)\n",
    "\n",
    "cv2.waitKey(0)"
   ]
  },
  {
   "cell_type": "markdown",
   "metadata": {},
   "source": [
    "# Blurring"
   ]
  },
  {
   "cell_type": "markdown",
   "metadata": {},
   "source": [
    "https://docs.opencv.org/4.x/dc/dd3/tutorial_gausian_median_blur_bilateral_filter.html"
   ]
  },
  {
   "cell_type": "code",
   "execution_count": null,
   "metadata": {},
   "outputs": [],
   "source": [
    "import os\n",
    "\n",
    "import cv2\n",
    "\n",
    "img = cv2.imread(\"persona.jpg\")\n",
    "image = cv2.resize(img, (630, 630))\n",
    "\n",
    "k_size = 7\n",
    "\n",
    "blur_img =cv2.blur(image, (k_size, k_size))\n",
    "\n",
    "g_blur = cv2.GaussianBlur(image, (k_size, k_size), 3)\n",
    "\n",
    "m_blur = cv2.medianBlur(image, k_size)\n",
    "\n",
    "cv2.imshow(\"org\", image)\n",
    "cv2.imshow(\"persona\", blur_img)\n",
    "cv2.imshow(\"g_blur\", g_blur )\n",
    "cv2.imshow(\"m_blur\", m_blur )\n",
    "\n",
    "cv2.waitKey(0)"
   ]
  },
  {
   "cell_type": "markdown",
   "metadata": {},
   "source": [
    "# Thresholding"
   ]
  },
  {
   "cell_type": "markdown",
   "metadata": {},
   "source": [
    "https://docs.opencv.org/4.x/d7/dd0/tutorial_js_thresholding.html"
   ]
  },
  {
   "cell_type": "markdown",
   "metadata": {},
   "source": [
    "If pixel value is greater than a threshold value, it is assigned one value (may be white), else it is assigned another value"
   ]
  },
  {
   "cell_type": "code",
   "execution_count": null,
   "metadata": {},
   "outputs": [],
   "source": [
    "import os\n",
    "\n",
    "import cv2\n",
    "\n",
    "img = cv2.imread(\"handwritten.png\")\n",
    "image_resize = cv2.resize(img, (540, 680))\n",
    "\n",
    "img_gray = cv2.cvtColor(image_resize, cv2.COLOR_BGR2GRAY)\n",
    "\n",
    "# ret, thresh = cv2.threshold(img_gray, 80, 255, cv2.THRESH_BINARY)\n",
    "\n",
    "# thresh = cv2.blur(thresh, (10, 10))\n",
    "# ret, thresh = cv2.threshold(thresh, 80, 255, cv2.THRESH_BINARY)\n",
    "\n",
    "thresh = cv2.adaptiveThreshold(img_gray, 255, cv2.ADAPTIVE_THRESH_GAUSSIAN_C, cv2.THRESH_BINARY, 21, 30)\n",
    "\n",
    "cv2.imshow(\"img\", img_gray)\n",
    "cv2.imshow(\"thresh\", thresh)\n",
    "cv2.waitKey(0)"
   ]
  },
  {
   "cell_type": "markdown",
   "metadata": {},
   "source": [
    "# Edge Detection"
   ]
  },
  {
   "cell_type": "markdown",
   "metadata": {},
   "source": [
    "https://docs.opencv.org/4.x/d2/d2c/tutorial_sobel_derivatives.html   #Sobel Derivatives\n",
    "\n",
    "https://docs.opencv.org/4.x/d5/db5/tutorial_laplace_operator.html    #Laplace Operator\n",
    "\n",
    "https://docs.opencv.org/4.x/da/d5c/tutorial_canny_detector.html      #Canny Edge Detector"
   ]
  },
  {
   "cell_type": "code",
   "execution_count": 20,
   "metadata": {},
   "outputs": [
    {
     "data": {
      "text/plain": [
       "-1"
      ]
     },
     "execution_count": 20,
     "metadata": {},
     "output_type": "execute_result"
    }
   ],
   "source": [
    "import os\n",
    "import cv2\n",
    "import numpy as np\n",
    "\n",
    "player = cv2.imread(\"player.jpg\")\n",
    "img_resize = cv2.resize(player, (640, 940))\n",
    "\n",
    "img_edge = cv2.Canny(img_resize, 100, 200)\n",
    "\n",
    "img_edge_d = cv2.dilate(img_edge, np.ones((3, 3), dtype = np.int8))\n",
    "\n",
    "image_edge_e = cv2.erode(img_edge_d, np.ones((3, 3), dtype = np.int8))   #opposite to Dilate\n",
    "\n",
    "cv2.imshow(\"img\", img_resize)\n",
    "cv2.imshow(\"image\", img_edge)\n",
    "cv2.imshow(\"img_edge_d\" , img_edge_d)\n",
    "cv2.imshow(\"image_edge_e\" , image_edge_e)\n",
    "cv2.waitKey(0)"
   ]
  },
  {
   "cell_type": "markdown",
   "metadata": {},
   "source": [
    "# Drawing\n",
    "\n"
   ]
  },
  {
   "cell_type": "markdown",
   "metadata": {},
   "source": [
    "https://docs.opencv.org/4.x/dc/da5/tutorial_py_drawing_functions.html     Drawing Functions in OpenCV"
   ]
  },
  {
   "cell_type": "code",
   "execution_count": 54,
   "metadata": {},
   "outputs": [
    {
     "data": {
      "text/plain": [
       "-1"
      ]
     },
     "execution_count": 54,
     "metadata": {},
     "output_type": "execute_result"
    }
   ],
   "source": [
    "import os\n",
    "import cv2\n",
    "\n",
    "img = cv2.imread(\"whiteboard.jpg\")\n",
    "img_resize = cv2.resize(img, (540, 740)) #using it because image is too big for my desktop\n",
    "\n",
    "\n",
    "#Run below operation one by on for better uderstanding\n",
    "\n",
    "#line\n",
    "cv2.line(img_resize, (300, 350), (150, 350), (0, 255, 0), 3)\n",
    "\n",
    "#rectangle\n",
    "# cv2.rectangle(img_resize, (300, 550), (150, 650), (0, 0, 255), 5) \n",
    "# cv2.rectangle(img_resize, (300, 550), (150, 650), (0, 0, 255), -1)  #if you want to fill the rectangle inside\n",
    "\n",
    "# #Circle\n",
    "# cv2.circle(img_resize, (150, 250), 115, (0, 255, 0), 10)\n",
    "\n",
    "# #text\n",
    "# cv2.putText(img_resize, \"Hey You!\", (250, 350), cv2.FONT_HERSHEY_SIMPLEX, 2, (0, 255, 0), 3 )\n",
    "\n",
    "cv2.imshow(\"whiteboard\", img_resize)\n",
    "cv2.waitKey(0)"
   ]
  },
  {
   "cell_type": "markdown",
   "metadata": {},
   "source": [
    "# Countours - Option Detectors"
   ]
  },
  {
   "cell_type": "markdown",
   "metadata": {},
   "source": [
    "https://docs.opencv.org/3.4/d4/d73/tutorial_py_contours_begin.html  "
   ]
  },
  {
   "cell_type": "code",
   "execution_count": 61,
   "metadata": {},
   "outputs": [
    {
     "data": {
      "text/plain": [
       "-1"
      ]
     },
     "execution_count": 61,
     "metadata": {},
     "output_type": "execute_result"
    }
   ],
   "source": [
    "import os\n",
    "import cv2\n",
    "\n",
    "img = cv2.imread(\"Birds.jpg\")\n",
    "img = cv2.resize(img, (450, 450))\n",
    "\n",
    "img_gray = cv2.cvtColor(img, cv2.COLOR_BGR2GRAY)\n",
    "\n",
    "ret, thresh  =cv2.threshold(img_gray, 127, 255, cv2.THRESH_BINARY_INV)\n",
    "counters, hierarchy = cv2.findContours(thresh, cv2.RETR_TREE, cv2.CHAIN_APPROX_SIMPLE)\n",
    "\n",
    "for cnt in counters:\n",
    "    if cv2.contourArea(cnt) > 200:\n",
    "        #cv2.drawContours(img, cnt, -1, (0, 255, 0), 1)\n",
    "        \n",
    "        x1, y1, w, h = cv2.boundingRect(cnt)\n",
    "        \n",
    "        cv2.rectangle(img, (x1, y1), (x1 + w, y1 + h), (0, 255, 0), 2)\n",
    "\n",
    "\n",
    "cv2.imshow(\"Birds\", img)\n",
    "cv2.imshow(\"image_gray\", img_gray )\n",
    "cv2.imshow(\"threshold\", thresh)\n",
    "\n",
    "\n",
    "cv2.waitKey(0)"
   ]
  }
 ],
 "metadata": {
  "colab": {
   "provenance": []
  },
  "kernelspec": {
   "display_name": "Python 3 (ipykernel)",
   "language": "python",
   "name": "python3"
  },
  "language_info": {
   "codemirror_mode": {
    "name": "ipython",
    "version": 3
   },
   "file_extension": ".py",
   "mimetype": "text/x-python",
   "name": "python",
   "nbconvert_exporter": "python",
   "pygments_lexer": "ipython3",
   "version": "3.11.5"
  }
 },
 "nbformat": 4,
 "nbformat_minor": 1
}
